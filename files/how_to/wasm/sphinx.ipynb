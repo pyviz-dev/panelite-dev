{
 "cells": [
  {
   "cell_type": "markdown",
   "id": "33a0c78a",
   "metadata": {},
   "source": [
    "# Embedding in Sphinx documentation\n",
    "\n",
    "One more option is to include live Panel examples in your Sphinx documentation using the `nbsite.pyodide` directive.\n",
    "\n",
    "## Setup\n",
    "\n",
    "In the near future we hope to make this a separate Sphinx extension, until then simply install latest nbsite with `pip` or `conda`:\n",
    "\n",
    "::::{tab-set}\n",
    "\n",
    ":::{tab-item} Pip\n",
    ":sync: pip\n",
    "\n",
    "``` bash\n",
    "pip install nbsite\n",
    "```\n",
    ":::\n",
    "\n",
    ":::{tab-item} Conda\n",
    ":sync: conda\n",
    "\n",
    "``` bash\n",
    "conda install -c pyviz nbsite\n",
    "```\n",
    ":::\n",
    "\n",
    "::::\n",
    "\n",
    "add the extension to the Sphinx `conf.py`:\n",
    "\n",
    "```python\n",
    "extensions += [\n",
    "    ...,\n",
    "    'nbsite.pyodide'\n",
    "]\n",
    "```\n",
    "\n",
    "## Configuration\n",
    "\n",
    "In the `conf.py` of your project you can configure the extension in a number of ways by defining an `nbsite_pyodide_conf` dictionary with the following options:\n",
    "\n",
    "- `PYODIDE_URL`: The URl to fetch Pyodide from\n",
    "- `autodetect_deps` (default=`True`): Whether to automatically detect dependencies in the executed code and install them.\n",
    "- `enable_pwa` (default=`True`): Whether to add a web manifest and service worker to configure the documentation as a progressive web app.\n",
    "- `requirements` (default=`['panel']`): Default requirements to include (by default this includes just panel.\n",
    "- `scripts`: Scripts to add to the website when a Pyodide cell is first executed.\n",
    "- `setup_code` (default=`''`): Python code to run when initializing the Pyodide runtime.\n",
    "\n",
    "and then you can use the `pyodide` as an RST directive:\n",
    "\n",
    "```rst\n",
    ".. pyodide::\n",
    "\n",
    "   import panel as pn\n",
    "\n",
    "   slider = pn.widgets.FloatSlider(start=0, end=10, name='Amplitude')\n",
    "\n",
    "   def callback(new):\n",
    "       return f'Amplitude is: {new}'\n",
    "\n",
    "   pn.Row(slider, pn.bind(callback, slider))\n",
    "```\n",
    "\n",
    "## Examples\n",
    "\n",
    "The resulting output looks like this:\n",
    "\n"
   ]
  },
  {
   "cell_type": "code",
   "execution_count": null,
   "id": "fc2dedbb",
   "metadata": {},
   "outputs": [],
   "source": [
    "import panel as pn"
   ]
  },
  {
   "cell_type": "markdown",
   "id": "6f9e314d",
   "metadata": {},
   "source": [
    "\n",
    "\n"
   ]
  },
  {
   "cell_type": "code",
   "execution_count": null,
   "id": "9d85d249",
   "metadata": {},
   "outputs": [],
   "source": [
    "slider = pn.widgets.FloatSlider(start=0, end=10, name='Amplitude')\n",
    "\n",
    "def callback(new):\n",
    "    return f'Amplitude is: {new}'\n",
    "\n",
    "pn.Row(slider, pn.bind(callback, slider))"
   ]
  },
  {
   "cell_type": "markdown",
   "id": "df522966",
   "metadata": {},
   "source": [
    "\n",
    "In addition to rendering Panel components it also renders regular Python\n",
    "types:\n",
    "\n"
   ]
  },
  {
   "cell_type": "code",
   "execution_count": null,
   "id": "ac3bdc61",
   "metadata": {},
   "outputs": [],
   "source": [
    "1+1"
   ]
  },
  {
   "cell_type": "markdown",
   "id": "60a7bb25",
   "metadata": {},
   "source": [
    "\n",
    "\n"
   ]
  },
  {
   "cell_type": "code",
   "execution_count": null,
   "id": "5d716960",
   "metadata": {},
   "outputs": [],
   "source": [
    "\"A string\""
   ]
  },
  {
   "cell_type": "markdown",
   "id": "0a700678",
   "metadata": {},
   "source": [
    "\n",
    "and also handles stdout and stderr streams:\n",
    "\n"
   ]
  },
  {
   "cell_type": "code",
   "execution_count": null,
   "id": "cc877154",
   "metadata": {},
   "outputs": [],
   "source": [
    "import numpy as np\n",
    "for i in range(10):\n",
    "    print(f'Repeat {i}')\n",
    "    for i in range(10000):\n",
    "        np.random.rand(1000)"
   ]
  },
  {
   "cell_type": "markdown",
   "id": "f00e7fdf",
   "metadata": {},
   "source": [
    "\n"
   ]
  },
  {
   "cell_type": "code",
   "execution_count": null,
   "id": "92c6db87",
   "metadata": {},
   "outputs": [],
   "source": [
    "raise ValueError('Encountered an error')"
   ]
  },
  {
   "cell_type": "markdown",
   "id": "b409be05",
   "metadata": {},
   "source": [
    "\n",
    "and supports `_repr_<mime>_` methods that are commonly used by the IPython and Jupyter ecosystem:\n",
    "\n"
   ]
  },
  {
   "cell_type": "code",
   "execution_count": null,
   "id": "6941ad7e",
   "metadata": {},
   "outputs": [],
   "source": [
    "class HTML:\n",
    "\n",
    "    def __init__(self, html):\n",
    "\t    self.html = html\n",
    "\n",
    "    def _repr_html_(self):\n",
    "\t    return self.html\n",
    "\n",
    "HTML('<b>HTML!</b>')"
   ]
  },
  {
   "cell_type": "markdown",
   "id": "4fb42c87",
   "metadata": {},
   "source": [
    "\n",
    "## Usage\n",
    "\n",
    "The code cell will display a button to execute the cell, which will warn about downloading the Python runtime on first-click and ask you to confirm whether you want to proceed. It will then download Pyodide, all required packages and finally display the output.\n"
   ]
  }
 ],
 "metadata": {},
 "nbformat": 4,
 "nbformat_minor": 5
}
