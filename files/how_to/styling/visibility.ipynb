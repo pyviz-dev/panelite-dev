{
 "cells": [
  {
   "cell_type": "markdown",
   "id": "65d0a10a",
   "metadata": {},
   "source": [
    "# Control Visibility\n",
    "\n",
    "This guide addresses how to control the visibility of a component.\n",
    "\n",
    "---\n",
    "\n",
    "All components provide a `visible` parameter which toggles a component's visibility.\n",
    "\n",
    "Let's create three simple components with different colors. We'll set the visibility parameter of the blue one to `False`:\n",
    "\n"
   ]
  },
  {
   "cell_type": "code",
   "execution_count": null,
   "id": "e2c84fee",
   "metadata": {},
   "outputs": [],
   "source": [
    "import panel as pn\n",
    "\n",
    "pn.extension() # for notebook\n",
    "\n",
    "a = pn.pane.HTML(width=60, height=60, styles={'background': 'green'})\n",
    "b = pn.pane.HTML(width=60, height=60, styles={'background': 'blue'}, visible=False)\n",
    "c = pn.pane.HTML(width=60, height=60, styles={'background': 'red'})\n",
    "\n",
    "layout = pn.Row(a, b, c)\n",
    "layout"
   ]
  },
  {
   "cell_type": "markdown",
   "id": "182816f3",
   "metadata": {},
   "source": [
    "\n",
    "In some cases, exposing control of component visibility within the user interface may come in handy. To achieve this, we can use the `controls` method on a component to create a widget that allows for the manipulation of the `visibility` parameter. For instance, after running the code cell, toggling the checkbox below will update the visibility of the blue `b` component above:\n",
    "\n"
   ]
  },
  {
   "cell_type": "code",
   "execution_count": null,
   "id": "fab4f83e",
   "metadata": {},
   "outputs": [],
   "source": [
    "b.controls(['visible'])[1]"
   ]
  },
  {
   "cell_type": "markdown",
   "id": "68577bea",
   "metadata": {},
   "source": [
    "\n",
    "---\n",
    "\n",
    "## Related Resources\n"
   ]
  }
 ],
 "metadata": {},
 "nbformat": 4,
 "nbformat_minor": 5
}
