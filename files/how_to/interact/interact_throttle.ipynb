{
 "cells": [
  {
   "cell_type": "markdown",
   "id": "7411f373",
   "metadata": {},
   "source": [
    "# Disable Continuous Updates with `Interact`\n",
    "\n",
    "When interacting with functions which take a long time to run, realtime feedback can be a burden instead of being helpful. This guide addresses how to disable continuous updates with Panel `interact`.\n",
    "\n",
    "```{admonition} Prerequisites\n",
    "1. The [How to > Generate Widgets for Function Arguments](./interact_basics.md) guide covers how to generate widgets for function arguments with Panel interact.\n",
    "```\n",
    "\n",
    "---\n",
    "\n",
    "Let's first create a simple function:\n",
    "\n",
    "\n"
   ]
  },
  {
   "cell_type": "code",
   "execution_count": null,
   "id": "ad0ab4d7",
   "metadata": {},
   "outputs": [],
   "source": [
    "import panel as pn\n",
    "pn.extension()\n",
    "\n",
    "def f(x):\n",
    "    return x"
   ]
  },
  {
   "cell_type": "markdown",
   "id": "2d0769fa",
   "metadata": {},
   "source": [
    "\n",
    "Now, let's call `interact` and set the argument `throttled` to `True`. The function will now only be run after the release of the mouse button (run the code cell to activate this callback).\n",
    "\n"
   ]
  },
  {
   "cell_type": "code",
   "execution_count": null,
   "id": "bcc28d6d",
   "metadata": {},
   "outputs": [],
   "source": [
    "pn.interact(f, x=10, throttled=True)"
   ]
  },
  {
   "cell_type": "markdown",
   "id": "1a2adcc2",
   "metadata": {},
   "source": [
    "\n",
    "## Related Resources\n"
   ]
  }
 ],
 "metadata": {},
 "nbformat": 4,
 "nbformat_minor": 5
}
