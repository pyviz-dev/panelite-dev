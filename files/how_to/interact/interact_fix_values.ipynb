{
 "cells": [
  {
   "cell_type": "markdown",
   "id": "88997dc8",
   "metadata": {},
   "source": [
    "# Fix Values with `Interact`\n",
    "\n",
    "This guide addresses how to fix the value for certain arguments with Panel `interact`.\n",
    "\n",
    "```{admonition} Prerequisites\n",
    "1. The [How to > Generate Widgets for Function Arguments](./interact_basics.md) guide covers how to generate widgets for function arguments with Panel interact.\n",
    "```\n",
    "\n",
    "---\n",
    "\n",
    "First, let's declare a simple function.\n",
    "\n"
   ]
  },
  {
   "cell_type": "code",
   "execution_count": null,
   "id": "056c4b0e",
   "metadata": {},
   "outputs": [],
   "source": [
    "import panel as pn\n",
    "from panel.interact import fixed\n",
    "pn.extension() # for notebook\n",
    "\n",
    "def f(x, y):\n",
    "    return x, y"
   ]
  },
  {
   "cell_type": "markdown",
   "id": "76e1cfd3",
   "metadata": {},
   "source": [
    "\n",
    "Now, call `interact` using the `panel.interact.fixed` function to fix one of the values:\n",
    "\n"
   ]
  },
  {
   "cell_type": "code",
   "execution_count": null,
   "id": "7d0706ba",
   "metadata": {},
   "outputs": [],
   "source": [
    "pn.interact(f, x=1, y=fixed(10))"
   ]
  },
  {
   "cell_type": "markdown",
   "id": "073abd80",
   "metadata": {},
   "source": [
    "\n",
    "## Related Resources\n"
   ]
  }
 ],
 "metadata": {},
 "nbformat": 4,
 "nbformat_minor": 5
}
