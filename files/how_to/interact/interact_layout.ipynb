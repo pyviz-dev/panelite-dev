{
 "cells": [
  {
   "cell_type": "markdown",
   "id": "4438484e",
   "metadata": {},
   "source": [
    "# Customize Layout with Interact\n",
    "\n",
    "This guide addresses how to customize the layout of the widgets and displays from the output of Panel `interact`.\n",
    "\n",
    "```{admonition} Prerequisites\n",
    "1. The [How to > Generate Widgets for Function Arguments](./interact_basics.md) guide covers how to generate widgets for function arguments with Panel interact.\n",
    "```\n",
    "\n",
    "---\n",
    "\n",
    "First, let's create a function and call `interact` to return a Panel containing the widgets and the display output.\n",
    "\n"
   ]
  },
  {
   "cell_type": "code",
   "execution_count": null,
   "id": "7847a84f",
   "metadata": {},
   "outputs": [],
   "source": [
    "import panel as pn\n",
    "pn.extension() # for notebook\n",
    "\n",
    "def f(x, y, z):\n",
    "    return x, y, z\n",
    "\n",
    "layout = pn.interact(f, x=True, y=10, z='text')\n",
    "\n",
    "layout"
   ]
  },
  {
   "cell_type": "markdown",
   "id": "b26c9178",
   "metadata": {},
   "source": [
    "\n",
    "We can always print the Panel contents to check the indexing:\n",
    "\n"
   ]
  },
  {
   "cell_type": "code",
   "execution_count": null,
   "id": "dd3e1433",
   "metadata": {},
   "outputs": [],
   "source": [
    "print(layout)"
   ]
  },
  {
   "cell_type": "markdown",
   "id": "39e8f766",
   "metadata": {},
   "source": [
    "\n",
    "Now, by indexing into this Panel we can lay out the objects precisely how we want:\n",
    "\n"
   ]
  },
  {
   "cell_type": "code",
   "execution_count": null,
   "id": "e6ec1695",
   "metadata": {},
   "outputs": [],
   "source": [
    "pn.Row(pn.Column('First Column', layout[0][0], layout[0][1], width=200),\n",
    "       pn.Column('Second Column', layout[0][2], width=200),\n",
    "       pn.Column('Returns', layout[1]),\n",
    "      )"
   ]
  },
  {
   "cell_type": "markdown",
   "id": "a0f153f1",
   "metadata": {},
   "source": [
    "\n",
    "## Related Resources\n"
   ]
  }
 ],
 "metadata": {},
 "nbformat": 4,
 "nbformat_minor": 5
}
