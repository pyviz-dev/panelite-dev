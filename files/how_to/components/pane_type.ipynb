{
 "cells": [
  {
   "cell_type": "markdown",
   "id": "781c0b9d",
   "metadata": {},
   "source": [
    "# Access Pane Type\n",
    "\n",
    "This guide addresses how to access the Pane Type.\n",
    "\n",
    "---\n",
    "\n",
    "To access the type for a given component, use the `print` function. This can come in handy when a component was created in such a way where the type was not explicitly specified, such as with ``pn.panel`` as described on the [How to construct panes page](construct_panes.md).\n",
    "\n"
   ]
  },
  {
   "cell_type": "code",
   "execution_count": null,
   "id": "f8d43f00",
   "metadata": {},
   "outputs": [],
   "source": [
    "import panel as pn\n",
    "pn.extension() # for notebook\n",
    "\n",
    "example_pane = pn.panel('https://upload.wikimedia.org/wikipedia/commons/b/b1/Loading_icon.gif', width=500)\n",
    "\n",
    "print(example_pane)"
   ]
  },
  {
   "cell_type": "markdown",
   "id": "2973a089",
   "metadata": {},
   "source": [
    "\n",
    "## Related Resources\n",
    "- Learn more about Panes in [Explanation > Components](../../explanation/components/components_overview.html#panes).\n"
   ]
  }
 ],
 "metadata": {},
 "nbformat": 4,
 "nbformat_minor": 5
}
