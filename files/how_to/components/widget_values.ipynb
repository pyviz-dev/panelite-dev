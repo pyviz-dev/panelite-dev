{
 "cells": [
  {
   "cell_type": "markdown",
   "id": "73394b91",
   "metadata": {},
   "source": [
    "# Access and Set Widget Values\n",
    "\n",
    "This guide addresses how to access and set widget values.\n",
    "\n",
    "---\n",
    "\n",
    "In addition to other parameters that govern widget behavior and appearance, Widget objects have a ``value`` parameter that can be used to access the current value state.\n",
    "\n",
    "\n",
    "Let's first create a `TextInput` widget:\n",
    "\n"
   ]
  },
  {
   "cell_type": "code",
   "execution_count": null,
   "id": "01f1cd86",
   "metadata": {},
   "outputs": [],
   "source": [
    "import panel as pn\n",
    "pn.extension() # for notebook\n",
    "\n",
    "widget = pn.widgets.TextInput(name='A widget', value='A string')\n",
    "widget"
   ]
  },
  {
   "cell_type": "markdown",
   "id": "0ba823e8",
   "metadata": {},
   "source": [
    "\n",
    "Now we can programmatically access its value:\n",
    "\n"
   ]
  },
  {
   "cell_type": "code",
   "execution_count": null,
   "id": "87799f3e",
   "metadata": {},
   "outputs": [],
   "source": [
    "widget.value"
   ]
  },
  {
   "cell_type": "markdown",
   "id": "5ba3cc4f",
   "metadata": {},
   "source": [
    "\n",
    "We can also use this value parameter to set the widget value:\n",
    "\n"
   ]
  },
  {
   "cell_type": "code",
   "execution_count": null,
   "id": "4de44a1c",
   "metadata": {},
   "outputs": [],
   "source": [
    "widget.value = '3'"
   ]
  },
  {
   "cell_type": "markdown",
   "id": "bfdd4dcf",
   "metadata": {},
   "source": [
    "\n",
    "---\n",
    "\n",
    "## Related Resources\n",
    "\n",
    "- Learn more about Panes in [Explanation > Components](../../explanation/components/components_overview.md#panes).\n"
   ]
  }
 ],
 "metadata": {},
 "nbformat": 4,
 "nbformat_minor": 5
}
