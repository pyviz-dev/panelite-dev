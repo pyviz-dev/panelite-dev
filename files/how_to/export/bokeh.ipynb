{
 "cells": [
  {
   "cell_type": "markdown",
   "id": "1d3d51af",
   "metadata": {},
   "source": [
    "# Access the Bokeh Model\n",
    "\n",
    "This guide addresses how to access the underlying Bokeh model of Panel objects.\n",
    "\n",
    "---\n",
    "\n",
    "Since Panel is built on top of Bokeh, all Panel objects can easily be converted to a Bokeh model. The ``get_root`` method returns a model representing the contents of a Panel:\n",
    "\n"
   ]
  },
  {
   "cell_type": "code",
   "execution_count": null,
   "id": "00de6325",
   "metadata": {},
   "outputs": [],
   "source": [
    "import panel as pn\n",
    "\n",
    "model = pn.Column('# Some markdown').get_root()\n",
    "model"
   ]
  },
  {
   "cell_type": "markdown",
   "id": "b6398410",
   "metadata": {},
   "source": [
    "\n",
    "By default this model will be associated with Bokeh's ``curdoc()``, so if you want to associate the model with some other ``Document`` ensure you supply it explicitly as the first argument. Once you have access to the underlying Bokeh model you can use all the usual Bokeh utilities such as ``components``, ``file_html``, or ``show``\n",
    "\n"
   ]
  },
  {
   "cell_type": "code",
   "execution_count": null,
   "id": "df069077",
   "metadata": {},
   "outputs": [],
   "source": [
    "from bokeh.embed import components, file_html\n",
    "from bokeh.io import show\n",
    "\n",
    "script, html = components(model)\n",
    "\n",
    "print(html)"
   ]
  },
  {
   "cell_type": "markdown",
   "id": "dd76e838",
   "metadata": {},
   "source": [
    "\n",
    "## Related Resources\n"
   ]
  }
 ],
 "metadata": {},
 "nbformat": 4,
 "nbformat_minor": 5
}
