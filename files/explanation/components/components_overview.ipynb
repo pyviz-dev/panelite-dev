{
 "cells": [
  {
   "cell_type": "markdown",
   "id": "1a52b62b",
   "metadata": {},
   "source": [
    "# Components Overview\n",
    "\n",
    "Panel is a library that provides a lot of object types and while building an app, even a simple one, you will create and interact with many of them. Compare this for instance to the Pandas library, with which you'll normally interact with just a few object types (e.g. `Series`, `DataFrame`). It is important for you to understand the differences between the objects Panel offers and how you can use them.\n",
    "\n"
   ]
  },
  {
   "cell_type": "code",
   "execution_count": null,
   "id": "cea4ffb8",
   "metadata": {},
   "outputs": [],
   "source": [
    "import panel as pn\n",
    "\n",
    "pn.extension(notifications=True)"
   ]
  },
  {
   "cell_type": "markdown",
   "id": "0cd70c57",
   "metadata": {},
   "source": [
    "\n",
    "The main objects that Panel provides, and that we are going to call *components* hereafter, short for *visual components*, include:\n",
    "\n",
    "- *Widgets*: widgets are components, usually quite small even if there are exceptions, that allow your users to interact with your app. Most importantly, they allow you to get user input! Examples include a text input, a checkbox, a slider, etc.\n",
    "- *Panes*: panes are wrappers around some data that allow you to render that data, possibly customizing the rendering. Panel is known to support many date types, especially from the PyData ecosystem. You can indeed display a Pandas DataFrame, a Plotly plot, a Matplotlib plot, an Altair plot, all together on the same app! You can of course display HTML text or just raw text. Panes aren't limited to rendering data statically, they can allow for some user interactions and state syncing, like for instance the `Audio` or `Vega` panes.\n",
    "- *Indicators*: indicators are useful to display some static state, they are indeed implemented as widgets that you can only control programmatically. You'll find for instance a progress indicator or a tooltip.\n",
    "- *Layouts*: after having built various widgets, panes and indicators, it's time to display them together. Panel provides a dozen of layout components, including of course the most common `Row` and `Column` layouts.\n",
    "- *Templates*: templates are components that render multiple Panel objects in an HTML document. The basic template, which you get when you serve an app without setting any template, is basically a blank canvas. Instead when you use one of the built-in templates you can easily improve the design and branding of your app, which will get for free a header, a sidebar, etc.\n",
    "- *Notifications*: notifications are components that display so called \"toasts\", designed to mimic the push notifications that have been popularized by mobile and desktop operating systems.\n",
    "\n",
    "All the Panel components can be visualized on the [Component Gallery](../../reference/index.md).\n",
    "\n",
    ":::{tip}\n",
    "Components usually have in their docstring a link to their documentation page, use `<component>?` in a notebook or your IDE inspection capabilities to access the link.\n",
    ":::\n",
    "\n",
    "## Parameterized components\n",
    "\n",
    "All components in Panel are built on the [Param](https://param.holoviz.org/) library. Each component declares a set of *Parameters* that control the behavior and output of the component. The basic idea however is that the *Parameter* values can be controlled both at the class-level:\n",
    "\n"
   ]
  },
  {
   "cell_type": "code",
   "execution_count": null,
   "id": "1d878669",
   "metadata": {},
   "outputs": [],
   "source": [
    "pn.widgets.IntRangeSlider.width = 350"
   ]
  },
  {
   "cell_type": "markdown",
   "id": "3beb81e1",
   "metadata": {},
   "source": [
    "\n",
    "or on each instance:\n",
    "\n"
   ]
  },
  {
   "cell_type": "code",
   "execution_count": null,
   "id": "d2d75660",
   "metadata": {},
   "outputs": [],
   "source": [
    "pn.widgets.IntRangeSlider(width=100)"
   ]
  },
  {
   "cell_type": "markdown",
   "id": "cab7c28c",
   "metadata": {},
   "source": [
    "\n",
    "## State syncing\n",
    "\n",
    "Be it in a notebook, in a served app, or in a Pyodide/PyScript app, Panel components sync their state between all views of the object. To better understand what that means, we create a `TextInput` widget and display it two times. Run the two following cells to render two views of the same widget.\n",
    "\n"
   ]
  },
  {
   "cell_type": "code",
   "execution_count": null,
   "id": "616de73e",
   "metadata": {},
   "outputs": [],
   "source": [
    "w_text = pn.widgets.TextInput()\n",
    "w_text"
   ]
  },
  {
   "cell_type": "markdown",
   "id": "9c903918",
   "metadata": {},
   "source": [
    "\n"
   ]
  },
  {
   "cell_type": "code",
   "execution_count": null,
   "id": "d30bfce4",
   "metadata": {},
   "outputs": [],
   "source": [
    "w_text"
   ]
  },
  {
   "cell_type": "markdown",
   "id": "c8e1f1a5",
   "metadata": {},
   "source": [
    "\n",
    "This widget has many *Parameters* than can be set and will be synced, i.e. a programmatic update of their value will be reflected in the user interface, affecting its views. Run the two cells below and observe the two views above being updated.\n",
    "\n"
   ]
  },
  {
   "cell_type": "code",
   "execution_count": null,
   "id": "311d3f62",
   "metadata": {},
   "outputs": [],
   "source": [
    "w_text.width = 100"
   ]
  },
  {
   "cell_type": "markdown",
   "id": "4a84c2ef",
   "metadata": {},
   "source": [
    "\n"
   ]
  },
  {
   "cell_type": "code",
   "execution_count": null,
   "id": "975e12ab",
   "metadata": {},
   "outputs": [],
   "source": [
    "w_text.value = 'new text'"
   ]
  },
  {
   "cell_type": "markdown",
   "id": "6a89a3c0",
   "metadata": {},
   "source": [
    "\n",
    "What you just experimented is one-way syncing from your code to the user interface, i.e. from your running Python interpreter to your browser tab.\n",
    "\n",
    "This can also work the other way around, i.e. when you modify a component from the user interface directly its Python state gets updated accordingly. Try this out by typing some text in one of the widgets above and then execute the cell below. You will see that what you typed is now reflected in the widget `value`. In this case we say that the `value` *Parameter* is bi-directionally synced (or linked).\n",
    "\n"
   ]
  },
  {
   "cell_type": "code",
   "execution_count": null,
   "id": "a4808f18",
   "metadata": {},
   "outputs": [],
   "source": [
    "w_text.value"
   ]
  },
  {
   "cell_type": "markdown",
   "id": "62ac543b",
   "metadata": {},
   "source": [
    "\n",
    "## Core components\n",
    "\n",
    "### Widgets\n",
    "\n",
    "More than 50 different widgets are available in the `pn.widgets` subpackage, varying from a simple text input to a more complex chat bot. The widget classes use a consistent API that allows treating broad categories of widgets as interchangeable. For instance, to select a value from a list of options, you can interchangeably use a `Select` widget, a `RadioButtonGroup`, or a range of other equivalent widgets.\n",
    "\n",
    "#### `value`\n",
    "\n",
    "Widgets **all** have a `value` *Parameter* that holds the widget state and that is bi-directionally synced. What is accepted for `value` is often a constrained *Parameter*.\n",
    "\n",
    ":::{note}\n",
    "\n",
    "One gotcha that doesn't only apply to the `value` *Parameter* but that you are more likely to encounter with this *Parameter* than others is when it is referencing a mutable data structure that you mutate inplace. Take for example a `MultiSelect` widget whose `value` is a `list`. If you programmatically update that list directly, with for example `append` or `extend`, Panel will not be able to detect that change. In which case you need to explicitly trigger updates with `w_multiselect.param.trigger('value')` that will run all the same underlying machinery as if you were setting the *Parameter* to a new value. A notable widget that holds a multable datastructure is the `Tabulator` widget whose `value` is a Pandas DataFrame that can be updated inplace with e.g. `df.loc[0, 'A'] = new_value`, its `patch` method allows to both update the data and the user interface.\n",
    ":::\n",
    "\n"
   ]
  },
  {
   "cell_type": "code",
   "execution_count": null,
   "id": "f0ccee13",
   "metadata": {},
   "outputs": [],
   "source": [
    "w_multi = pn.widgets.MultiSelect(options=list('abc'))\n",
    "w_multi"
   ]
  },
  {
   "cell_type": "markdown",
   "id": "8ab602b2",
   "metadata": {},
   "source": [
    "\n"
   ]
  },
  {
   "cell_type": "code",
   "execution_count": null,
   "id": "64bddc93",
   "metadata": {},
   "outputs": [],
   "source": [
    "# Setting `value` updates the user interface as expected.\n",
    "w_multi.value = ['a', 'b']"
   ]
  },
  {
   "cell_type": "markdown",
   "id": "37d5d691",
   "metadata": {},
   "source": [
    "\n"
   ]
  },
  {
   "cell_type": "code",
   "execution_count": null,
   "id": "dc13d7b7",
   "metadata": {},
   "outputs": [],
   "source": [
    "# However, updating `value` in place doesn't.\n",
    "w_multi.value.append('c')"
   ]
  },
  {
   "cell_type": "markdown",
   "id": "4459ac79",
   "metadata": {},
   "source": [
    "\n"
   ]
  },
  {
   "cell_type": "code",
   "execution_count": null,
   "id": "575fc93d",
   "metadata": {},
   "outputs": [],
   "source": [
    "# Trigger updates to also select 'c' in the user interface\n",
    "w_multi.param.trigger('value')"
   ]
  },
  {
   "cell_type": "markdown",
   "id": "f64f5043",
   "metadata": {},
   "source": [
    "\n",
    "#### Throttling\n",
    "\n",
    "There are two types of widgets that can be updated very frequently in the user interface: sliders (e.g. `IntSlider`, `FloatSlider`, `RangerSlider`) and text inputs (e.g. `TextInput`, `AutocompleteInput`). In some cases you may want to react on every state update of these widgets, in some others you only want to react when the user has finished interacting with the widget. For instance, you certainly do not want to run a long simulation on every step of a slider being dragged by your user, but you may want a plot to be updated live when your user moves another slider. Panel provides additional *Parameters* to cover those cases:\n",
    "\n",
    "- sliders: the `value` *Parameter* is updated continuously when the slider is being dragged and the `value_throttled` *Parameter* is updated only when the handle on the slider is released (less updates)\n",
    "- text inputs: the `value` *Parameter* is only updated when the *Enter* key is pressed or the widget loses focus and the `value_input` *Parameter* is updated on every key press (more updates).\n",
    "\n"
   ]
  },
  {
   "cell_type": "code",
   "execution_count": null,
   "id": "36fd9d8f",
   "metadata": {},
   "outputs": [],
   "source": [
    "pn.config.throttled = True"
   ]
  },
  {
   "cell_type": "markdown",
   "id": "f0d0b6ac",
   "metadata": {},
   "source": [
    "\n"
   ]
  },
  {
   "cell_type": "code",
   "execution_count": null,
   "id": "6fef84b8",
   "metadata": {},
   "outputs": [],
   "source": [
    "slider = pn.widgets.IntSlider(start=0, end=10)"
   ]
  },
  {
   "cell_type": "markdown",
   "id": "71acd569",
   "metadata": {},
   "source": [
    "\n"
   ]
  },
  {
   "cell_type": "code",
   "execution_count": null,
   "id": "28d42d72",
   "metadata": {},
   "outputs": [],
   "source": [
    "text = pn.widgets.TextInput()"
   ]
  },
  {
   "cell_type": "markdown",
   "id": "166b54ce",
   "metadata": {},
   "source": [
    "\n"
   ]
  },
  {
   "cell_type": "code",
   "execution_count": null,
   "id": "1ce25b80",
   "metadata": {},
   "outputs": [],
   "source": [
    "text.value_input"
   ]
  },
  {
   "cell_type": "markdown",
   "id": "20ca5c3c",
   "metadata": {},
   "source": [
    "\n"
   ]
  },
  {
   "cell_type": "code",
   "execution_count": null,
   "id": "c17a09e7",
   "metadata": {},
   "outputs": [],
   "source": [
    "slider.param.value_throttled"
   ]
  },
  {
   "cell_type": "markdown",
   "id": "783e553d",
   "metadata": {},
   "source": [
    "\n",
    "#### `name`\n",
    "\n",
    "Most widgets can have a caption that is set with the `name` *Parameter*.\n",
    "\n"
   ]
  },
  {
   "cell_type": "code",
   "execution_count": null,
   "id": "802f9efa",
   "metadata": {},
   "outputs": [],
   "source": [
    "pn.widgets.Button(name='Click me!')"
   ]
  },
  {
   "cell_type": "markdown",
   "id": "cfa79228",
   "metadata": {},
   "source": [
    "\n"
   ]
  },
  {
   "cell_type": "code",
   "execution_count": null,
   "id": "c2d88c2e",
   "metadata": {},
   "outputs": [],
   "source": [
    "pn.widgets.TextInput(name='Age:')"
   ]
  },
  {
   "cell_type": "markdown",
   "id": "33023a19",
   "metadata": {},
   "source": [
    "\n",
    "#### `description`\n",
    "\n",
    "The `description` *Parameter* was added in Panel 1.0 to some widgets. It adds a tooltip icon next to the widget label, it supports rendering HTML content.\n",
    "\n"
   ]
  },
  {
   "cell_type": "code",
   "execution_count": null,
   "id": "940656fc",
   "metadata": {},
   "outputs": [],
   "source": [
    "pn.widgets.Select(\n",
    "    name='Mode', description='<ul><li>Mode 1: ...</li><li>Mode 2: ...</li></ul>',\n",
    "    options=[1, 2]\n",
    ")"
   ]
  },
  {
   "cell_type": "markdown",
   "id": "6c2bed18",
   "metadata": {},
   "source": [
    "\n",
    "### Panes\n",
    "\n",
    "Pane objects makes it possible to display a wide range of plots and other media on a page, including plots (e.g. Matplotlib, Bokeh, Vega/Altair, HoloViews, Plotly, Vizzu), images (e.g. PNGs, SVGs, GIFs, JPEGs), various markup languages (e.g. Markdown, HTML, LaTeX) and DataFrames. Panes are available under the `pn.pane` subpackage.\n",
    "\n",
    "#### `pn.panel()`\n",
    "\n",
    "Panel provides `pn.panel` as a convenient helper function that will convert objects into a Pane. The utility resolves the appropriate representation for an object by checking all Pane object types available and then ranking them by priority. When passing a string (for instance) there are many representations, but the PNG pane takes precedence if the string is a valid URL or local file path ending in \".png\".\n",
    "\n"
   ]
  },
  {
   "cell_type": "code",
   "execution_count": null,
   "id": "d9216cc9",
   "metadata": {},
   "outputs": [],
   "source": [
    "png = pn.panel('https://upload.wikimedia.org/wikipedia/commons/4/47/PNG_transparency_demonstration_1.png', width=200)\n",
    "png"
   ]
  },
  {
   "cell_type": "markdown",
   "id": "ce37b49b",
   "metadata": {},
   "source": [
    "\n"
   ]
  },
  {
   "cell_type": "code",
   "execution_count": null,
   "id": "03b61b9c",
   "metadata": {},
   "outputs": [],
   "source": [
    "row = pn.Row('# Title')"
   ]
  },
  {
   "cell_type": "markdown",
   "id": "82e37316",
   "metadata": {},
   "source": [
    "\n",
    "We can check that `PNG` is indeed the Pane type inferred by the utility.\n",
    "\n"
   ]
  },
  {
   "cell_type": "code",
   "execution_count": null,
   "id": "e1927ce9",
   "metadata": {},
   "outputs": [],
   "source": [
    "print(png)"
   ]
  },
  {
   "cell_type": "markdown",
   "id": "d782d437",
   "metadata": {},
   "source": [
    "\n",
    "#### `object`\n",
    "\n",
    "Panes **all** store the object they are wrapping on the `object` *Parameter*. Existing views of a pane will update when `object` is set to a new value. Let's verify that with the `Markdown` pane, run the next cells to display two views of the same pane and update both of them by setting `object` with a new string.\n",
    "\n"
   ]
  },
  {
   "cell_type": "code",
   "execution_count": null,
   "id": "b3a1eddf",
   "metadata": {},
   "outputs": [],
   "source": [
    "p_md = pn.pane.Markdown('# Title')\n",
    "p_md"
   ]
  },
  {
   "cell_type": "markdown",
   "id": "f8706af8",
   "metadata": {},
   "source": [
    "\n"
   ]
  },
  {
   "cell_type": "code",
   "execution_count": null,
   "id": "d60f801c",
   "metadata": {},
   "outputs": [],
   "source": [
    "p_md.object"
   ]
  },
  {
   "cell_type": "markdown",
   "id": "a95f2337",
   "metadata": {},
   "source": [
    "\n"
   ]
  },
  {
   "cell_type": "code",
   "execution_count": null,
   "id": "4d02b7f5",
   "metadata": {},
   "outputs": [],
   "source": [
    "p_md.object = '# New title'"
   ]
  },
  {
   "cell_type": "markdown",
   "id": "11aa18fb",
   "metadata": {},
   "source": [
    "\n",
    "### Indicators\n",
    "\n",
    "Indicators are useful to show transient state (e.g. progress bar), a numerical indicator or a text indicator (e.g. tooltip). They sit in between widgets and panes, they have a `value` *Parameter* that holds their state but cannot be modified from the user interface.\n",
    "\n"
   ]
  },
  {
   "cell_type": "code",
   "execution_count": null,
   "id": "b41d2088",
   "metadata": {},
   "outputs": [],
   "source": [
    "i_number = pn.indicators.Number(\n",
    "    name='Total Amount', value=3.5, format='{value}K',\n",
    "    colors=[(5, 'green'), (10, 'red')]\n",
    ")\n",
    "i_number"
   ]
  },
  {
   "cell_type": "markdown",
   "id": "f4d7ca83",
   "metadata": {},
   "source": [
    "\n"
   ]
  },
  {
   "cell_type": "code",
   "execution_count": null,
   "id": "6b673f05",
   "metadata": {},
   "outputs": [],
   "source": [
    "i_number.value = 6"
   ]
  },
  {
   "cell_type": "markdown",
   "id": "5f8c1dff",
   "metadata": {},
   "source": [
    "\n",
    "Indicators work well with asynchronous generators to quickly update their state without blocking.\n",
    "\n",
    "### Layouts\n",
    "\n",
    "Layouts, aka *Panels*, allow arranging other components objects into fixed-size or responsively resizing layouts, building simple apps or complex dashboards. The whole Panel library is designed to make it easy to create such objects, which is why it takes its name from them.\n",
    "\n",
    "There are four main types of Panels:\n",
    "\n",
    "- A `Row` arranges a list of components horizontally.\n",
    "- A `Column` arranges a list of components vertically.\n",
    "- A `Tabs` object lays out a list of components as selectable tabs.\n",
    "- A `GridSpec` lays out components on a grid.\n",
    "\n",
    "We aren't going to explore all these types of layouts, instead we are going to focus on a key difference between some of them that affects how you interact with them:\n",
    "\n",
    "- The `Row`, `Column`, `Tabs`, `GridBox`, `FlexBox`, `Accordion` and `FloatPanel` layouts have list-like semantics, which means they have many of the same methods as a simple Python `list`, making it easy to add, replace, and remove components interactively using `append`, `extend`, `clear`, `insert`, `pop`, `remove` and `__setitem__`. These methods make it possible to interactively configure and modify an arrangement of plots, making them an extremely powerful tool for building apps or dashboards.\n",
    "- The `GridSpec` and `GridStack` layout is quite different from the other layout types in that it isn’t list-like. Instead it behaves more like a 2D array that automatically expands when assigned to. This property makes it a very powerful means of declaring a dashboard layout with either a fixed size or with responsive sizing, i.e. one that will rescale with the browser window.\n",
    "\n",
    "All the layout objects can be initialized as empty. When initialized with some objects, or when some new objects are set, if these objects aren't Panel components the `pn.panel` helper will be called internally to convert it into a displayable representation (typically a Pane).\n",
    "\n",
    "#### List-like API\n",
    "\n",
    "List-like layouts can be initialized with a variable number of objects. To start with, we will declare a `Column` and populate it with a title and a widget.\n",
    "\n"
   ]
  },
  {
   "cell_type": "code",
   "execution_count": null,
   "id": "7fb31934",
   "metadata": {},
   "outputs": [],
   "source": [
    "column = pn.Column('# A title', pn.widgets.FloatSlider())\n",
    "column"
   ]
  },
  {
   "cell_type": "markdown",
   "id": "0dcc19a9",
   "metadata": {},
   "source": [
    "\n",
    "Next we add another bit of markdown.\n",
    "\n"
   ]
  },
  {
   "cell_type": "code",
   "execution_count": null,
   "id": "066c3ffa",
   "metadata": {},
   "outputs": [],
   "source": [
    "column.append('* Item 1\\n* Item 2')"
   ]
  },
  {
   "cell_type": "markdown",
   "id": "cb0fbdfe",
   "metadata": {},
   "source": [
    "\n",
    "Then we add a few more widgets.\n",
    "\n"
   ]
  },
  {
   "cell_type": "code",
   "execution_count": null,
   "id": "523a040a",
   "metadata": {},
   "outputs": [],
   "source": [
    "column.extend([pn.widgets.TextInput(), pn.widgets.Checkbox(name='Tick this!')])"
   ]
  },
  {
   "cell_type": "markdown",
   "id": "1c141543",
   "metadata": {},
   "source": [
    "\n",
    "And finally we change our mind and replace the `Checkbox` with a button.\n",
    "\n"
   ]
  },
  {
   "cell_type": "code",
   "execution_count": null,
   "id": "e00d4a66",
   "metadata": {},
   "outputs": [],
   "source": [
    "column[4] = pn.widgets.Button(name='Click here')"
   ]
  },
  {
   "cell_type": "markdown",
   "id": "56b2d6a3",
   "metadata": {},
   "source": [
    "\n",
    "The ability to add, remove, and replace items using list operations opens up the possibility of building rich and responsive GUIs with the ease of manipulating a Python list! You can inspect the structure of a layout calling `print`.\n",
    "\n"
   ]
  },
  {
   "cell_type": "code",
   "execution_count": null,
   "id": "4769553c",
   "metadata": {},
   "outputs": [],
   "source": [
    "print(column)"
   ]
  },
  {
   "cell_type": "markdown",
   "id": "ab426138",
   "metadata": {},
   "source": [
    "\n",
    "The `Tabs` and `Accordion` layouts behave similarly, however, when adding or replacing items, it is also possible to pass a tuple providing a custom title for the tab\n",
    "\n"
   ]
  },
  {
   "cell_type": "code",
   "execution_count": null,
   "id": "a012d547",
   "metadata": {},
   "outputs": [],
   "source": [
    "tabs = pn.Tabs(('Text', 'Some text'))\n",
    "tabs"
   ]
  },
  {
   "cell_type": "markdown",
   "id": "6fe1c70a",
   "metadata": {},
   "source": [
    "\n"
   ]
  },
  {
   "cell_type": "code",
   "execution_count": null,
   "id": "4e95a433",
   "metadata": {},
   "outputs": [],
   "source": [
    "# Insert a tab with a title\n",
    "tabs.insert(0, ('Slider', pn.widgets.FloatSlider()))"
   ]
  },
  {
   "cell_type": "markdown",
   "id": "abcf2a39",
   "metadata": {},
   "source": [
    "\n",
    "#### Grid-like API\n",
    "\n",
    "Grid-like layouts are initialized empty and populated setting 2D assignments to specify the index or span on indices the object in the grid should occupy. Just like a Python array, the indexing is zero-based and specifies the rows first and the columns second, i.e. `gridlike[0, 1]` would assign an object to the first row and second column.\n",
    "\n",
    "To demonstrate the abilities, let us declare a grid with a wide range of different objects, including `Spacers`, HoloViews objects, images, and widgets.\n",
    "\n"
   ]
  },
  {
   "cell_type": "code",
   "execution_count": null,
   "id": "7c744125",
   "metadata": {},
   "outputs": [],
   "source": [
    "import holoviews as hv\n",
    "\n",
    "hv.extension('bokeh')\n",
    "\n",
    "pn.extension('gridstack')"
   ]
  },
  {
   "cell_type": "markdown",
   "id": "6c400b98",
   "metadata": {},
   "source": [
    "\n"
   ]
  },
  {
   "cell_type": "code",
   "execution_count": null,
   "id": "b5a5163a",
   "metadata": {},
   "outputs": [],
   "source": [
    "gspec = pn.GridStack(sizing_mode='stretch_width', height=500)\n",
    "gspec[0, :3] = pn.Spacer(styles=dict(background='#FF0000'))\n",
    "gspec[1:3, 0] = pn.Spacer(styles=dict(background='#0000FF'))\n",
    "gspec[1:3, 1:3] = hv.Scatter([0, 1, 0]).opts(shared_axes=False)\n",
    "gspec[3:5, 0] = hv.Curve([1, 2, 3])\n",
    "gspec[3:5, 1] = 'https://upload.wikimedia.org/wikipedia/commons/4/47/PNG_transparency_demonstration_1.png'\n",
    "gspec[4:5, 2] = pn.Column(\n",
    "    pn.widgets.FloatSlider(),\n",
    "    pn.widgets.ColorPicker(),\n",
    "    pn.widgets.Toggle(name='Toggle Me!'))\n",
    "\n",
    "gspec"
   ]
  },
  {
   "cell_type": "markdown",
   "id": "ea38514d",
   "metadata": {},
   "source": [
    "\n",
    "### Shared *Parameters*\n",
    "\n",
    "Widgets, indicators, panes and layouts all share a set of *Parameters* which are going to be briefly introduced in the following sections.\n",
    "\n",
    "#### `loading`\n",
    "\n",
    "Loading spinners are everywhere on modern apps and for good reasons, they let your users know that your app is doing some work for them! Fortunately they are very easy to set up in Panel, just set the `loading` *Parameter* to `True` or `False` on a component to display and hide its loading spinner.\n",
    "\n"
   ]
  },
  {
   "cell_type": "code",
   "execution_count": null,
   "id": "5f2e7f3d",
   "metadata": {},
   "outputs": [],
   "source": [
    "p_md = pn.pane.Markdown('# Title', loading=True)\n",
    "p_md"
   ]
  },
  {
   "cell_type": "markdown",
   "id": "f570dee0",
   "metadata": {},
   "source": [
    "\n"
   ]
  },
  {
   "cell_type": "code",
   "execution_count": null,
   "id": "675dbe33",
   "metadata": {},
   "outputs": [],
   "source": [
    "pn.config.loading_spinner = 'petal'\n",
    "pn.config.loading_color = 'red'"
   ]
  },
  {
   "cell_type": "markdown",
   "id": "5bb48a07",
   "metadata": {},
   "source": [
    "\n"
   ]
  },
  {
   "cell_type": "code",
   "execution_count": null,
   "id": "38024c78",
   "metadata": {},
   "outputs": [],
   "source": [
    "p_md.loading = False"
   ]
  },
  {
   "cell_type": "markdown",
   "id": "3b7449ac",
   "metadata": {},
   "source": [
    "\n",
    "#### `visible`\n",
    "\n",
    "Sometimes it's useful to just completely hide a component, for instance to hide some advanced options. Again that's very easy to do, just set the `visible` *Parameter* to `False` on a component you want to hide.\n",
    "\n"
   ]
  },
  {
   "cell_type": "code",
   "execution_count": null,
   "id": "8bdba881",
   "metadata": {},
   "outputs": [],
   "source": [
    "w_text = pn.widgets.TextInput(name='Advanced')\n",
    "w_text"
   ]
  },
  {
   "cell_type": "markdown",
   "id": "033e4704",
   "metadata": {},
   "source": [
    "\n"
   ]
  },
  {
   "cell_type": "code",
   "execution_count": null,
   "id": "13be9663",
   "metadata": {},
   "outputs": [],
   "source": [
    "w_text.visible = True"
   ]
  },
  {
   "cell_type": "markdown",
   "id": "67c5f140",
   "metadata": {},
   "source": [
    "\n",
    "#### Style\n",
    "\n",
    "A few *Parameters* allow to control the style of components, including `styles`, `stylesheets`, `css_classes` and `design`. These will be explored in more details in one of the next guides. As a teaser, the next cell is a simple example leveraging the `styles` *Parameter* only, that accepts a dictionary of CSS styles.\n",
    "\n"
   ]
  },
  {
   "cell_type": "code",
   "execution_count": null,
   "id": "159d84e2",
   "metadata": {},
   "outputs": [],
   "source": [
    "custom_style = {\n",
    "    'background': '#f9f9f9',\n",
    "    'border': '1px solid black',\n",
    "    'padding': '10px',\n",
    "    'box-shadow': '5px 5px 5px #bcbcbc'\n",
    "}\n",
    "\n",
    "pn.widgets.FloatSlider(name='Number', styles=custom_style)"
   ]
  },
  {
   "cell_type": "markdown",
   "id": "815eb6dc",
   "metadata": {},
   "source": [
    "\n",
    "#### Size and responsivity\n",
    "\n",
    "A few *Parameters* allow to control the size and responsivity of components, including `height`, `width`, `min_height`, `min_width` and `sizing_mode`. These will be explored in more details in one of the next guides.\n",
    "\n",
    "#### `margin`\n",
    "\n",
    "The `margin` *Parameter* can be used to create space around an element defined as the number of pixels at the (top, right, bottom, and left). When you set it with a single value the margin is going to be applied to each side of the element, `margin` allows for more fine-grained distributio of the margin.\n",
    "\n"
   ]
  },
  {
   "cell_type": "code",
   "execution_count": null,
   "id": "0d6738db",
   "metadata": {},
   "outputs": [],
   "source": [
    "pn.widgets.Button(name='Click', margin=(25, 0, 0, 0))"
   ]
  },
  {
   "cell_type": "markdown",
   "id": "4b27aa63",
   "metadata": {},
   "source": [
    "\n",
    "#### `align`\n",
    "\n",
    "The `align` *Parameter* controls how components align vertically and horizontally. It supports `‘start’`, `‘center’`, and `‘end’` values and can be set for both horizontal and vertical directions at once or for each separately by passing in a tuple of the form `(horizontal, vertical)`.\n",
    "\n"
   ]
  },
  {
   "cell_type": "code",
   "execution_count": null,
   "id": "a520fec6",
   "metadata": {},
   "outputs": [],
   "source": [
    "pn.Row(\n",
    "    pn.widgets.IntSlider(),\n",
    "    pn.widgets.IntSlider(align=('center', 'start')),\n",
    "    height=100,\n",
    "    styles={'background': 'lightgrey'},\n",
    ")"
   ]
  },
  {
   "cell_type": "markdown",
   "id": "d8687284",
   "metadata": {},
   "source": [
    "\n",
    "## Templates\n",
    "\n",
    "A template is the HTML document that ends up being served by your app, it defines what resources (Javascript, CSS) need to be loaded, the page title, where the Panel objects are supposed to be rendered on the page, etc.\n",
    "\n",
    "When you serve an app without defining a particular template Panel serves it with its default template, that is pretty much a blank canvas where the served objects, if there are a few of them, will be rendered vertically one after the other.\n",
    "\n",
    "Try saving the following snippet in a `app.py` file and serving it with `panel serve app.py --show`\n",
    "\n",
    "```python\n",
    "import panel as pn\n",
    "\n",
    "pn.panel('# Title').servable()\n",
    "pn.panel('Some text').servable()\n",
    "pn.panel('More text').servable()\n",
    "```\n",
    "\n",
    "When developing an app, someone (possibly you!) will require at some point to make it prettier! A quick way to achieve that is to wrap your app in one of the templates that Panel provides, that are defined by declaring four main content areas on the page, which can be populated as desired:\n",
    "\n",
    "- `header`: The header area of the HTML page\n",
    "- `sidebar`: A collapsible sidebar\n",
    "- `main`: The main area of the application\n",
    "- `modal`: A modal, i.e. a dialog box/popup window\n",
    "\n",
    "These four areas behave very similarly to layouts that have list-like semantics. This means we can easily append new components into these areas. Unlike other layout components however, the contents of the areas is fixed once rendered. If you need a dynamic layout you should therefore insert a regular layout (e.g. a `Column` or `Row`) and modify it in place once added to one of the content areas.\n",
    "\n",
    "<img src=\"../../_static/images/template_areas.png\" style=\"margin-left: auto; margin-right: auto; display: block;\"></img>\n",
    "\n",
    ":::{warning}\n",
    "The templates provided by Panel should not be rendered in a notebook, as their CSS styling usually doesn't play well with the CSS styling of the notebook itself.\n",
    ":::\n",
    "\n",
    "Since an app can only have one template, Panel allows to declare the app template via `pn.extension(template='..')`. Of course you can also explicitly instantiate a template and manipulate it as you would do with other Panel objects. Try serving the content of this snippet.\n",
    "\n",
    "```python\n",
    "import panel as pn\n",
    "\n",
    "\n",
    "template = pn.template.BootstrapTemplate(title='Loving Panel!')\n",
    "\n",
    "\n",
    "def compute(i):\n",
    "    return '❤️' * i\n",
    "\n",
    "\n",
    "w_number = pn.widgets.IntSlider(value=5, start=1, end=5)\n",
    "p_hearts = pn.panel(pn.bind(compute, w_number))\n",
    "\n",
    "template.sidebar.append(w_number)\n",
    "template.main.append(p_hearts)\n",
    "template.show()\n",
    "```\n",
    "\n",
    "## Notifications\n",
    "\n",
    "The web apps you end up building with Panel are often quite interactive. Therefore you will be interested in finding a way to let your users know what's going on, when their operations succeed or abort, etc. This is exactly what notifications are for! Contrary to the components we have just covered, notifications are objects you don't manipulate directly, instead you just call `pn.state.notifications` with one the following methods: `success`, `info`, `warning` and `error`.\n",
    "\n"
   ]
  },
  {
   "cell_type": "code",
   "execution_count": null,
   "id": "b4e10d82",
   "metadata": {},
   "outputs": [],
   "source": [
    "pn.state.notifications.success('Your first notification!')"
   ]
  },
  {
   "cell_type": "markdown",
   "id": "d5753f0c",
   "metadata": {},
   "source": [
    "\n"
   ]
  },
  {
   "cell_type": "code",
   "execution_count": null,
   "id": "d3e6c5e4",
   "metadata": {},
   "outputs": [],
   "source": [
    "pn.state.notifications.error('Oops!', duration=5000)"
   ]
  }
 ],
 "metadata": {},
 "nbformat": 4,
 "nbformat_minor": 5
}
