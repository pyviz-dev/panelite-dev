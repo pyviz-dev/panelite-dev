{
 "cells": [
  {
   "cell_type": "markdown",
   "id": "1f92801f",
   "metadata": {},
   "source": [
    "# Panel and Param\n",
    "\n"
   ]
  },
  {
   "cell_type": "code",
   "execution_count": null,
   "id": "feb4758d",
   "metadata": {},
   "outputs": [],
   "source": [
    "import param\n",
    "import panel as pn\n",
    "\n",
    "pn.extension()"
   ]
  },
  {
   "cell_type": "markdown",
   "id": "a233690b",
   "metadata": {},
   "source": [
    "\n",
    "[Param](https://param.holoviz.org/) is a Python package that is foundational in the implementation and usage of Panel, and more generally of the [HoloViz](https://holoviz.org/) tools. Param provides super-charged object attributes, called **Parameters**, that behave like normal Python object attributes but benefit from two major features that are both heavily used in Panel:\n",
    "\n",
    "- *Parameter* attribute values are runtime validated.\n",
    "- *Parameters* are objects that can be watched, i.e. you can register callbacks (Python functions or methods) that will be executed when the parameter value changes.\n",
    "\n",
    "## *Parameterized* and *Parameter* intro\n",
    "\n",
    "A *Parameterized* class, i.e. a class on which *Parameters* can be set, is created by inheriting from `param.Parameterized`. Most Panel objects (widgets, panels, layouts, templates, etc.) actually inherit from `param.Parameterized`!\n",
    "\n"
   ]
  },
  {
   "cell_type": "code",
   "execution_count": null,
   "id": "d7de3ff0",
   "metadata": {},
   "outputs": [],
   "source": [
    "print(\n",
    "    issubclass(pn.widgets.FloatSlider, param.Parameterized),\n",
    "    issubclass(pn.pane.Matplotlib, param.Parameterized),\n",
    "    issubclass(pn.Column, param.Parameterized),\n",
    "    issubclass(pn.template.BootstrapTemplate, param.Parameterized)\n",
    ")"
   ]
  },
  {
   "cell_type": "markdown",
   "id": "36bc0e0a",
   "metadata": {},
   "source": [
    "\n",
    "Let's create a *Parameterized* class with a single *Parameter*.\n",
    "\n"
   ]
  },
  {
   "cell_type": "code",
   "execution_count": null,
   "id": "a632edd4",
   "metadata": {},
   "outputs": [],
   "source": [
    "class A(param.Parameterized):\n",
    "    x = param.Number()"
   ]
  },
  {
   "cell_type": "markdown",
   "id": "059058b5",
   "metadata": {},
   "source": [
    "\n",
    "`A` has now an attribute `x` that can be accessed and set as you would normally do with a plain Python class.\n",
    "\n"
   ]
  },
  {
   "cell_type": "code",
   "execution_count": null,
   "id": "8c240717",
   "metadata": {},
   "outputs": [],
   "source": [
    "A.x"
   ]
  },
  {
   "cell_type": "markdown",
   "id": "a26ef195",
   "metadata": {},
   "source": [
    "\n",
    "As each *Parameter* type has a default value, we can instantiate `A` as is.\n",
    "\n"
   ]
  },
  {
   "cell_type": "code",
   "execution_count": null,
   "id": "1f722b9f",
   "metadata": {},
   "outputs": [],
   "source": [
    "a = A()\n",
    "a.x"
   ]
  },
  {
   "cell_type": "markdown",
   "id": "8d3fc90d",
   "metadata": {},
   "source": [
    "\n",
    "Obviously, we can set a new value for `x` on `a`.\n",
    "\n"
   ]
  },
  {
   "cell_type": "code",
   "execution_count": null,
   "id": "094482d4",
   "metadata": {},
   "outputs": [],
   "source": [
    "a.x = 2\n",
    "a.x"
   ]
  },
  {
   "cell_type": "markdown",
   "id": "a1e3dc11",
   "metadata": {},
   "source": [
    "\n",
    "In Panel documentation we often refer to the *Parameter **value*** to describe the attribute value.\n",
    "The *Parameter **object***, i.e. the object declared in the class body and of type `param.Parameter`, can be accessed via the `.param` namespace, both at the class and instance level.\n",
    "\n"
   ]
  },
  {
   "cell_type": "code",
   "execution_count": null,
   "id": "a4548466",
   "metadata": {},
   "outputs": [],
   "source": [
    "A.param.x  # equivalent to A.param['x']"
   ]
  },
  {
   "cell_type": "markdown",
   "id": "2ef36a66",
   "metadata": {},
   "source": [
    "\n"
   ]
  },
  {
   "cell_type": "code",
   "execution_count": null,
   "id": "a1915101",
   "metadata": {},
   "outputs": [],
   "source": [
    "a.param.x  # # equivalent to a.param['x']"
   ]
  },
  {
   "cell_type": "markdown",
   "id": "0db20b9f",
   "metadata": {},
   "source": [
    "\n",
    "The *Parameter* object has methods and attributes that can be useful to interact with. We can for instance access the `default` value of the `x` Parameter.\n",
    "\n",
    "\n"
   ]
  },
  {
   "cell_type": "code",
   "execution_count": null,
   "id": "f835489e",
   "metadata": {},
   "outputs": [],
   "source": [
    "a.param.x.default"
   ]
  },
  {
   "cell_type": "markdown",
   "id": "e48ce109",
   "metadata": {},
   "source": [
    "\n",
    "*Parameterized* classes often don't need a constructor, because the default constructor already allows them to be configured using *Parameters* as constructor arguments. Still, sometimes you do need to customize the constructor of a *Parameterized* class. This happens regularly enough that Param's users have come up with the following convention that you are likely to encounter.\n",
    "\n"
   ]
  },
  {
   "cell_type": "code",
   "execution_count": null,
   "id": "855dd0f2",
   "metadata": {},
   "outputs": [],
   "source": [
    "class A(param.Parameterized):\n",
    "    x = param.Number()\n",
    "\n",
    "    # Naming the keyword arguments `**params` is purely a convention.\n",
    "    def __init__(self, **params):\n",
    "        super().__init__(**params)\n",
    "        self._y = self.x * 2"
   ]
  },
  {
   "cell_type": "markdown",
   "id": "fc3288a3",
   "metadata": {},
   "source": [
    "\n",
    ":::{attention}\n",
    "For an object attribute to be powered by Param you must declare it as a *Parameter*! Otherwise, that attribute will become a regular **class variable**, and as such will be shared across all the instances of that class.\n",
    "\n",
    "```python\n",
    "class P(param.Parameterized):\n",
    "    x = param.Number()  # Good\n",
    "    w1 = pn.widgets.FloatSlider()  # Very likely you DO NOT want this\n",
    "    w2 = param.ClassSelector(class_=pn.widgets.FloatSlider)  # Much better!\n",
    "\n",
    "```\n",
    ":::\n",
    "\n",
    "## Runtime type-checking\n",
    "\n",
    "The class `B` below is created with 4 *Parameters*:\n",
    "\n",
    "- `t` is a `Number` *Parameter* that only accepts Python `int` and `float` values.\n",
    "- `i` is an `Integer` *Parameter* that only accepts Python `int` values and that must be within the interval `[5, 15]`\n",
    "- `s` is a `String` *Parameter* that only accepts Python `str` values and is documented with `doc`.\n",
    "- `option` is a `Selector` *Parameter* that only accepts one of the values listed in `objects`.\n",
    "\n",
    "\n",
    ":::{note}\n",
    "Param offers [many *Parameter* types](https://param.holoviz.org/user_guide/Parameter_Types.html). All of them share a common set of arguments like `default` or `doc`, and some add other arguments such as `bounds` for the numerical *Parameters*.\n",
    ":::\n",
    "\n"
   ]
  },
  {
   "cell_type": "code",
   "execution_count": null,
   "id": "ccaede36",
   "metadata": {},
   "outputs": [],
   "source": [
    "class B(param.Parameterized):\n",
    "    t = param.Number()\n",
    "    i = param.Integer(default=10, bounds=(5, 15))\n",
    "    s = param.String(default='a string', doc='The simulation name')\n",
    "    option = param.Selector(objects=['a', 'b', 'c'])"
   ]
  },
  {
   "cell_type": "markdown",
   "id": "9fa10e4f",
   "metadata": {},
   "source": [
    "\n",
    "Once the class is created, the *Parameters* are already active and can be updated, but only if they're valid!\n",
    "\n"
   ]
  },
  {
   "cell_type": "code",
   "execution_count": null,
   "id": "1b0a4589",
   "metadata": {},
   "outputs": [],
   "source": [
    "# Updating `t` to 2 is valid\n",
    "B.t = 2\n",
    "\n",
    "# However updating `i` with a string isn't and raises an error\n",
    "try:\n",
    "    B.i = 'bad data'\n",
    "except Exception as e:\n",
    "    print(e)"
   ]
  },
  {
   "cell_type": "markdown",
   "id": "984a9938",
   "metadata": {},
   "source": [
    "\n",
    "The same principle applies at the instance level, both when creating the instance and when updating it later on.\n",
    "\n"
   ]
  },
  {
   "cell_type": "code",
   "execution_count": null,
   "id": "3a252cf9",
   "metadata": {},
   "outputs": [],
   "source": [
    "# Setting `t` to 3 is valid\n",
    "b = B(t=3)\n",
    "\n",
    "# However setting `i` to a string isn't and raises an error\n",
    "try:\n",
    "    B(i='bad data')\n",
    "except Exception as e:\n",
    "    print(e)"
   ]
  },
  {
   "cell_type": "markdown",
   "id": "e6796c12",
   "metadata": {},
   "source": [
    "\n"
   ]
  },
  {
   "cell_type": "code",
   "execution_count": null,
   "id": "42eff9a4",
   "metadata": {},
   "outputs": [],
   "source": [
    "# Setting `s` to a string is valid\n",
    "b.s = 'foo'\n",
    "\n",
    "# However setting `option` to a value not found in `objects` isn't\n",
    "try:\n",
    "    b.option = 'bad data'\n",
    "except Exception as e:\n",
    "    print(e)"
   ]
  },
  {
   "cell_type": "markdown",
   "id": "abd0f31e",
   "metadata": {},
   "source": [
    "\n",
    "As you can see, code inside of *Parameterized* objects and code that uses *Parameterized* objects can often be written without any special error checking, since it knows that only allowed values will ever be present.\n",
    "\n",
    "\n",
    "## Dependencies and watchers\n",
    "\n",
    "*Parameters* are objects that can be watched, i.e., you can register callbacks that will be triggered when their value changes.\n",
    "\n",
    "The class `C` has 3 *Parameters*. Using the `param.depends` decorator, we can declare the callbacks of these classes, i.e. its methods, and the *Parameters* that they depend on:\n",
    "\n",
    "- `updating_on_t` depends on both `t1` and `t2`.\n",
    "- `updating_on_s` deponds on `s` only.\n",
    "\n",
    "By setting `watch=True` (default: `False`), we let Param know that we want it to trigger the callback automatically whenever the *Parameters* it depends on are updated. Without setting `watch`, we're only _declaring_ the dependency between a callback and its *Parameters*, which is information that is stored by Param but not used by it otherwise. Libraries like Panel that read this information can then use the declarations to determine their own flow of program execution, as we will see later.\n",
    "\n"
   ]
  },
  {
   "cell_type": "code",
   "execution_count": null,
   "id": "37b438bd",
   "metadata": {},
   "outputs": [],
   "source": [
    "class C(param.Parameterized):\n",
    "    t1 = param.Number(default=2)\n",
    "    t2 = param.Number(default=3)\n",
    "    s = param.String(default='a string')\n",
    "\n",
    "    @param.depends('t1', 't2', watch=True)\n",
    "    def updating_on_t(self):\n",
    "        print(f'New value of t1 and t2: {self.t1}, {self.t2}')\n",
    "\n",
    "    @param.depends('s')\n",
    "    def updating_on_s(self):\n",
    "        print(f'New value of s: {self.s}')\n",
    "\n",
    "c = C()"
   ]
  },
  {
   "cell_type": "markdown",
   "id": "2d1262bc",
   "metadata": {},
   "source": [
    "\n",
    "Let's confirm this behavior by setting new values to these *Parameters*.\n",
    "\n"
   ]
  },
  {
   "cell_type": "code",
   "execution_count": null,
   "id": "40006875",
   "metadata": {},
   "outputs": [],
   "source": [
    "c.t1 = 0"
   ]
  },
  {
   "cell_type": "markdown",
   "id": "63b65787",
   "metadata": {},
   "source": [
    "\n"
   ]
  },
  {
   "cell_type": "code",
   "execution_count": null,
   "id": "b8516393",
   "metadata": {},
   "outputs": [],
   "source": [
    "c.t2 = 1"
   ]
  },
  {
   "cell_type": "markdown",
   "id": "3b728a4a",
   "metadata": {},
   "source": [
    "\n"
   ]
  },
  {
   "cell_type": "code",
   "execution_count": null,
   "id": "9b458b22",
   "metadata": {},
   "outputs": [],
   "source": [
    "c.s = 'another string'"
   ]
  },
  {
   "cell_type": "markdown",
   "id": "a947232b",
   "metadata": {},
   "source": [
    "\n",
    "Param offers a more low-level API to set up watchers, with the `watch` function available on the `.param` namespace. `watch` accepts a callback and a list of *Parameter* names, and a few other arguments. The callback will receive an `Event` object, and the new *Parameter* value can be found on its `new` attribute.\n",
    "\n"
   ]
  },
  {
   "cell_type": "code",
   "execution_count": null,
   "id": "0ba41d44",
   "metadata": {},
   "outputs": [],
   "source": [
    "def callback(event):\n",
    "    print(event)\n",
    "    print()\n",
    "    print(f'Old value of s: {event.old}')\n",
    "    print(f'New value of s: {event.new}')\n",
    "\n",
    "# Setting up a watcher that will trigger the callback when `s` changes.\n",
    "c.param.watch(callback, ['s'])"
   ]
  },
  {
   "cell_type": "markdown",
   "id": "f6fcf746",
   "metadata": {},
   "source": [
    "\n"
   ]
  },
  {
   "cell_type": "code",
   "execution_count": null,
   "id": "6693d077",
   "metadata": {},
   "outputs": [],
   "source": [
    "c.s = 'new string'"
   ]
  },
  {
   "cell_type": "markdown",
   "id": "989828d5",
   "metadata": {},
   "source": [
    "\n",
    "## Panel and Param\n",
    "\n",
    "Panel knows how to map *Parameters* to widgets, and so it can easily generate a set of widgets from a *Parameterized* class that control its *Parameters* and trigger any dependent callbacks:\n",
    "\n"
   ]
  },
  {
   "cell_type": "code",
   "execution_count": null,
   "id": "5d2e126d",
   "metadata": {},
   "outputs": [],
   "source": [
    "class D(param.Parameterized):\n",
    "    t = param.Number()\n",
    "    i = param.Integer(default=10, bounds=(5, 15))\n",
    "    s = param.String(default='a string', doc='The simulation name')\n",
    "    option = param.Selector(objects=['a', 'b', 'c'])\n",
    "\n",
    "    @param.depends('t', 'i')\n",
    "    def compute(self):\n",
    "        return self.t * self.i\n",
    "\n",
    "d = D()\n",
    "\n",
    "pn.panel(d.param)"
   ]
  },
  {
   "cell_type": "markdown",
   "id": "2f1ef8fc",
   "metadata": {},
   "source": [
    "\n",
    "Panel, when given a method decorated with `@param.depends`, will re-run the method and render its new output every time one of the *Parameters* it depends on change:\n",
    "\n"
   ]
  },
  {
   "cell_type": "code",
   "execution_count": null,
   "id": "87d7cdac",
   "metadata": {},
   "outputs": [],
   "source": [
    "pn.Row(d.param.t, d.param.i, d.compute)"
   ]
  },
  {
   "cell_type": "markdown",
   "id": "7b5880d7",
   "metadata": {},
   "source": [
    "\n",
    "Because the displayable objects provided by Panel are all *Parameterized* objects with their own set of *Parameters*, they can all be watched. We can for instance hide a widget (setting `widget.visible` to `False`) by watching the value of another widget:\n",
    "\n"
   ]
  },
  {
   "cell_type": "code",
   "execution_count": null,
   "id": "320c11e6",
   "metadata": {},
   "outputs": [],
   "source": [
    "checkbox = pn.widgets.Checkbox(value=True)\n",
    "slider = pn.widgets.FloatSlider()\n",
    "\n",
    "def hide(event):\n",
    "    slider.visible = event.new\n",
    "\n",
    "checkbox.param.watch(hide, 'value')\n",
    "\n",
    "pn.Row(checkbox, slider)"
   ]
  },
  {
   "cell_type": "markdown",
   "id": "7eca745d",
   "metadata": {},
   "source": [
    "\n",
    "Using `.param.watch` as done just above is a valid (albeit pretty verbose!) way to set up some interactivity between Panel components. Panel also provides a much more natural \"reactive\" API, allowing you to bind the value of two *Parameters* together, or to bind the value of a *Parameter* to a callback that depends on some additional *Parameters*. In the example below, `tinput.visible` and `output.visible` will be updated whenever `checkbox.value` changes (clicking on the checkbox), and the value of `output.object` will be updated whenever `tinput.value` changes, that value being transformed by the `boldit` callback.\n",
    "\n"
   ]
  },
  {
   "cell_type": "code",
   "execution_count": null,
   "id": "ac1a95f0",
   "metadata": {},
   "outputs": [],
   "source": [
    "checkbox = pn.widgets.Checkbox(value=True)\n",
    "tinput = pn.widgets.TextInput(value='some text always bold', visible=checkbox.param.value)\n",
    "\n",
    "def boldit(value):\n",
    "    return f'**{value}**'\n",
    "\n",
    "output = pn.pane.Markdown(object=pn.bind(boldit, tinput.param.value), visible=checkbox.param.value)"
   ]
  },
  {
   "cell_type": "markdown",
   "id": "52ecef7f",
   "metadata": {},
   "source": [
    "\n"
   ]
  },
  {
   "cell_type": "code",
   "execution_count": null,
   "id": "7e089ec9",
   "metadata": {},
   "outputs": [],
   "source": [
    "pn.Row(checkbox, tinput, output)"
   ]
  },
  {
   "cell_type": "markdown",
   "id": "e8c980df",
   "metadata": {},
   "source": [
    "\n",
    "As you can see, *Parameters* offer a very generic mechanism for your Python code to declare options that control it, and Panel's Param support allows you to work naturally with any combination of objects and their *Parameters*.\n",
    "\n",
    "## Related Resources\n",
    "\n",
    "- See [Param's documentation](https://param.holoviz.org/)\n",
    "- See [How-to > Declare UIs with Declarative API](../../how_to/param/index.md).\n"
   ]
  }
 ],
 "metadata": {},
 "nbformat": 4,
 "nbformat_minor": 5
}
